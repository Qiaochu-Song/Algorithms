{
 "cells": [
  {
   "cell_type": "code",
   "execution_count": 65,
   "metadata": {
    "collapsed": false
   },
   "outputs": [],
   "source": [
    "#Quick Sort, case 1 with the first entry as pivot\n",
    "import numpy as np\n",
    "\n",
    "def choosepivot(A,method):\n",
    "    k = len(A)\n",
    "    if method =='median-of-three':\n",
    "        if k == 2: \n",
    "            p = A[0]\n",
    "            i = 0\n",
    "        elif (A[0] < A[(k-1)//2] < A[-1]) or (A[-1] < A[(k-1)//2] < A[0]) :\n",
    "            i = (k-1)//2\n",
    "            p = A[(k-1)//2]\n",
    "        elif (A[(k-1)//2] < A[0] < A[-1]) or (A[-1] < A[0] < A[(k-1)//2]):\n",
    "            i = 0\n",
    "            p = A[0]\n",
    "        else:\n",
    "            i=k-1\n",
    "            p=A[-1]\n",
    "    if method == 'first':\n",
    "        i = 0\n",
    "        p = A[0]\n",
    "    if method == 'final':\n",
    "        i = k-1\n",
    "        p = A[-1]\n",
    "    return i,p\n",
    "\n",
    "def swap(A,i,j):\n",
    "    temp = A[j]\n",
    "    A[j] = A[i]\n",
    "    A[i] = temp\n"
   ]
  },
  {
   "cell_type": "code",
   "execution_count": 101,
   "metadata": {
    "collapsed": false
   },
   "outputs": [
    {
     "data": {
      "text/plain": [
       "43"
      ]
     },
     "execution_count": 101,
     "metadata": {},
     "output_type": "execute_result"
    }
   ],
   "source": [
    "def quicksort(A,method,compar):\n",
    "    n = len(A)\n",
    "    #print(A,n-1,compar)\n",
    "    if n==1:\n",
    "        return compar\n",
    "    \n",
    "    else:   \n",
    "        ind,p = choosepivot(A,method)  #ind points to the loc of pivot \n",
    "        swap(A,0,ind)   # exchange pivot element with the 1st element before the main Partition subroutine\n",
    "        i = 1                   # i denote the boundary between >p and <p\n",
    "        for j in range(1,n):    #j (1 to n-1) is the pointer to the location we have traversed\n",
    "            if A[j]<p:          # then swap A[j] and A[i], or else do nothing \n",
    "                swap(A,i,j)     # i.e. here A[i] is the first element larger than p\n",
    "                i=i+1           #move the boundary to the next\n",
    "                \n",
    "        swap(A,0,i-1)            # put pivot back in the right place\n",
    "        compar +=(n-1)           #simply add m-1 to total comparisons every recursion on a subarray with length m\n",
    "        \n",
    "        if (i-1)!= 0:    # if there is still remaining element on the left side of pivot \n",
    "            compar = quicksort(A[0:i-1],method,compar)\n",
    "        if (i-1)!= n-1:      # if there is still remaining element on the right side of pivot \n",
    "            compar = quicksort(A[i:],method,compar)\n",
    "        \n",
    "        return compar\n",
    "    \n",
    "#A = np.array([3,8,2,5,1,15,4,7,6,9,10,11]) \n",
    "#quicksort(A,'final',0)\n",
    "                "
   ]
  },
  {
   "cell_type": "code",
   "execution_count": 103,
   "metadata": {
    "collapsed": false
   },
   "outputs": [
    {
     "name": "stdout",
     "output_type": "stream",
     "text": [
      "[    1     2     3 ...,  9998  9999 10000]\n",
      "162085\n",
      "[    1     2     3 ...,  9998  9999 10000]\n",
      "164123\n",
      "[    1     2     3 ...,  9998  9999 10000]\n",
      "138382\n"
     ]
    }
   ],
   "source": [
    "qs = open('QuickSort.txt','r+')\n",
    "arr = qs.readlines()\n",
    "arr = np.array([int(t.rstrip('\\n')) for t in arr])\n",
    "qs.close()\n",
    "arr\n",
    "\n",
    "for method in ['first','final','median-of-three']:\n",
    "    comparcount = 0\n",
    "    inputarray = arr.copy()\n",
    "    count = quicksort(inputarray,method,comparcount)\n",
    "    print(inputarray)\n",
    "    print(count)\n"
   ]
  },
  {
   "cell_type": "code",
   "execution_count": null,
   "metadata": {
    "collapsed": true
   },
   "outputs": [],
   "source": []
  }
 ],
 "metadata": {
  "anaconda-cloud": {},
  "kernelspec": {
   "display_name": "Python [Root]",
   "language": "python",
   "name": "Python [Root]"
  },
  "language_info": {
   "codemirror_mode": {
    "name": "ipython",
    "version": 3
   },
   "file_extension": ".py",
   "mimetype": "text/x-python",
   "name": "python",
   "nbconvert_exporter": "python",
   "pygments_lexer": "ipython3",
   "version": "3.5.2"
  }
 },
 "nbformat": 4,
 "nbformat_minor": 0
}
